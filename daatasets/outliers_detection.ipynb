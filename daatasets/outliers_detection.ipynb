{
 "cells": [
  {
   "cell_type": "code",
   "execution_count": null,
   "id": "e6e35ff1-54a1-469a-9347-cbea81dd659f",
   "metadata": {},
   "outputs": [],
   "source": [
    "import pandas as pd\n",
    "#loading dataset\n",
    "df=pd.read_csv(\"dfs.csv\")\n",
    "df.head()\n",
    "df.info()\n",
    "# check missing values\n",
    "print(df.isnull().sum())\n",
    "df.describe()"
   ]
  },
  {
   "cell_type": "markdown",
   "id": "9b0a29b3-ac8d-4a8c-8d41-8f7132ff0444",
   "metadata": {},
   "source": [
    "Outlier_Detection_Z_Score"
   ]
  },
  {
   "cell_type": "code",
   "execution_count": null,
   "id": "98ac6c66-37a2-4755-a841-c9e4bb5df5d1",
   "metadata": {},
   "outputs": [],
   "source": [
    "import numpy as np\n",
    "def detect_outliers_zscore(data,threshold=3):\n",
    "    z_scores=np.abs((data-data.mean())/data.std())\n",
    "    return z_scores>threshold\n",
    "#Applying to numeric columns z_scores\n",
    "numeric_cols=df.select_dtypes(include=[np.number]).columns\n",
    "outliers_zscore=df[numeric_cols].apply(detect_outliers_zscore)\n",
    "#Displaying outliers in each column\n",
    "outliers_zscore.sum()"
   ]
  },
  {
   "cell_type": "markdown",
   "id": "c136c474-77b6-4150-8246-a3ab45b0914b",
   "metadata": {},
   "source": [
    "IQR [Q1-1.5*IQR,Q3+1.5*IQR]"
   ]
  },
  {
   "cell_type": "code",
   "execution_count": null,
   "id": "ad1c0fc9-dce2-4057-929f-3cd5565afbbf",
   "metadata": {},
   "outputs": [],
   "source": [
    "def detect_outliers_iqr(data):\n",
    "    Q1=data.quantile(0.25)\n",
    "    Q3=data.quantile(0.75)\n",
    "    IQR=Q3-Q1\n",
    "    lower_bound=Q1-1.5*IQR\n",
    "    upper_bound=Q3+1.5*IQR\n",
    "    return (data<lower_bound)|(data>upper_bound)\n",
    "#Applying IQR to numeric data\n",
    "outliers_iqr=df[numeric_cols].apply(detect_outliers_iqr)\n",
    "#Show the number of outliers in each column\n",
    "print(outliers_iqr.sum())\n",
    "                                            "
   ]
  },
  {
   "cell_type": "markdown",
   "id": "9de1663c-b9b6-460c-8b87-d3c91e329dd0",
   "metadata": {},
   "source": [
    "combine z_score && IQR"
   ]
  },
  {
   "cell_type": "code",
   "execution_count": null,
   "id": "f92f3323-0ac5-4282-aed0-112f230dd3bb",
   "metadata": {},
   "outputs": [],
   "source": [
    "outliers_combined=(outliers_zscore & outliers_iqr)\n",
    "outliers_combined.sum()"
   ]
  },
  {
   "cell_type": "markdown",
   "id": "e21214a6-e792-4eaa-a80c-84649cf3ffed",
   "metadata": {},
   "source": [
    "Remove outliers"
   ]
  },
  {
   "cell_type": "code",
   "execution_count": null,
   "id": "435970f6-e6d9-470f-9f74-d65b889671b0",
   "metadata": {},
   "outputs": [],
   "source": [
    "df_cleaned=df[~outliers_combined.any(axis=1)]      \n",
    "print(f\"number of columns after remove outliers {df_cleaned.shape[0]}\")"
   ]
  },
  {
   "cell_type": "markdown",
   "id": "cdfc67d3-09a7-46b1-91f7-9a0d96dfcca1",
   "metadata": {},
   "source": [
    "Replacing outliers with either the mean or median"
   ]
  },
  {
   "cell_type": "code",
   "execution_count": null,
   "id": "55eb81da-2cfc-43fc-8014-82dc44f86b2c",
   "metadata": {},
   "outputs": [],
   "source": [
    "df_no_outliers=df.copy()\n",
    "for col in numeric_cols:\n",
    "    median=df[col].median()\n",
    "    df_no_outliers.loc[outliers_combined[col],col]=median"
   ]
  },
  {
   "cell_type": "markdown",
   "id": "8c64a07e-7eaf-4f8d-afc7-a9fdcd771696",
   "metadata": {},
   "source": [
    "Normalization"
   ]
  },
  {
   "cell_type": "code",
   "execution_count": null,
   "id": "1deeeb3c-f707-4bea-862c-4c3e3dba9b38",
   "metadata": {},
   "outputs": [],
   "source": [
    "from sklearn.preprocessing import MinMaxScaler\n",
    "#normalize data \n",
    "scaler=MinMaxScaler()\n",
    "df_normalized=df_cleaned.copy()\n",
    "df_normalized[numeric_cols]=scaler.fit_transform(df_cleaned[numeric_cols])\n",
    "print(\"normalized data: \")\n",
    "df_normalized.head()"
   ]
  },
  {
   "cell_type": "code",
   "execution_count": null,
   "id": "5bb2f222-00b5-4802-b8f9-9c76f3e17f0f",
   "metadata": {},
   "outputs": [],
   "source": [
    "df_normalized.to_csv(\"outliers_detection.csv\",index=False)\n",
    "print(\"number of outliers with z-score : \",outliers_zscore.sum())\n",
    "print(\"number of outliers with iqr :\" ,outliers_iqr.sum())\n",
    "print(\"number of outliers with combined :\",outliers_combined.sum())"
   ]
  },
  {
   "cell_type": "markdown",
   "id": "b820c787-e712-4af7-8625-76327bd49895",
   "metadata": {},
   "source": [
    "illustration"
   ]
  },
  {
   "cell_type": "code",
   "execution_count": null,
   "id": "934ab5f7-a9ac-48b0-97ff-3f32c84e8a88",
   "metadata": {},
   "outputs": [],
   "source": [
    "import matplotlib.pyplot as plt\n",
    "import seaborn as sns\n",
    "plt.figure(figsize=(10,5))\n",
    "plt.subplot(1,2,1)\n",
    "sns.boxplot(y=df[\"Porosity\"])\n",
    "plt.title(\"before removing outliers \")\n",
    "plt.subplot(1,2,2)\n",
    "sns.boxplot(y=df_cleaned['Porosity'])\n",
    "plt.title(\"after removing outliers\")\n",
    "plt.show()"
   ]
  },
  {
   "cell_type": "code",
   "execution_count": null,
   "id": "9474a646-8eb0-4a61-b3a9-d0dc7980290e",
   "metadata": {},
   "outputs": [],
   "source": []
  }
 ],
 "metadata": {
  "kernelspec": {
   "display_name": "Python 3 (ipykernel)",
   "language": "python",
   "name": "python3"
  },
  "language_info": {
   "codemirror_mode": {
    "name": "ipython",
    "version": 3
   },
   "file_extension": ".py",
   "mimetype": "text/x-python",
   "name": "python",
   "nbconvert_exporter": "python",
   "pygments_lexer": "ipython3",
   "version": "3.12.7"
  }
 },
 "nbformat": 4,
 "nbformat_minor": 5
}
